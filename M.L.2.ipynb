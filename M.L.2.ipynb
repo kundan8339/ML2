{
 "cells": [
  {
   "cell_type": "code",
   "execution_count": null,
   "id": "d9b4b9ae-1725-4a6b-9a3f-a9bade7e4076",
   "metadata": {},
   "outputs": [],
   "source": [
    "Q1: Define overfitting and underfitting in machine learning. What are the consequences of each, and how\n",
    "can they be mitigated?"
   ]
  },
  {
   "cell_type": "markdown",
   "id": "70ae0a6a-9bd7-405d-a0ac-a41ae4b02bec",
   "metadata": {},
   "source": [
    "overfitting occurs when a model learns the training data too well,capturing noise and random fluctuations in the data rather than the underlying pattern.\n",
    "Consequences:\n",
    "Poor Generalization\n",
    "high Variance\n",
    "Complexity\n",
    "mitigation\n",
    "simplif\n",
    "Regularization\n",
    "Pruning\n",
    "Cross-vlidation\n",
    "UNDERFITTING:Underfitting occurs when a model is too simple to capture the uderlying patternos the data\n",
    "consequences:\n",
    "poor performance\n",
    "high bias\n",
    "Lack of complexity\n"
   ]
  },
  {
   "cell_type": "code",
   "execution_count": null,
   "id": "a8871491-9e99-4ee5-83b4-ad5003286ac3",
   "metadata": {},
   "outputs": [],
   "source": [
    "Q2: How can we reduce overfitting? Explain in brief."
   ]
  },
  {
   "cell_type": "markdown",
   "id": "e2bfe533-a9d7-440a-9760-0395943741d7",
   "metadata": {},
   "source": [
    "overfitting occurs when a machine learing model learns the noise and details in the traing data to the extent that it\n",
    "negatively impacts the models performance on new data .\n",
    "1.simplify the model\n",
    "2.Regularization\n",
    "3.Pruning\n",
    "4.Cross-vlidation\n",
    "5.Early Stopping\n",
    "6.Data Augmentation\n",
    "7.Dropout\n",
    "8.Increse Training Data\n",
    "9.Feature Selection"
   ]
  },
  {
   "cell_type": "code",
   "execution_count": null,
   "id": "d4ca7b51-a1ae-48dd-98bd-852872a58bed",
   "metadata": {},
   "outputs": [],
   "source": [
    "Q3: Explain underfitting. List scenarios where underfitting can occur in ML."
   ]
  },
  {
   "cell_type": "markdown",
   "id": "7ae47441-480f-4257-8706-94455eb36bd8",
   "metadata": {},
   "source": [
    "Underfitting occurs when a machine learing model is too simple to capture the underlying patterns in the data.\n",
    "Scenarios where Underfitting Can Occur:\n",
    "1.insufficient model complexity:\n",
    "2.Too Much Regularization\n",
    "3.Inadequate Training Time \n",
    "4.Inappropriate Feature Selection\n",
    "5.High Noise level \n",
    "6.Small Dataset\n",
    "7.Wrong Model choice\n",
    "8.Poor Data preprocessing"
   ]
  },
  {
   "cell_type": "code",
   "execution_count": null,
   "id": "f37b38dc-fc77-4385-8eb9-1b50dad9dff2",
   "metadata": {},
   "outputs": [],
   "source": [
    "Q4: Explain the bias-variance tradeoff in machine learning. What is the relationship between bias and\n",
    "variance, and how do they affect model performance?"
   ]
  },
  {
   "cell_type": "markdown",
   "id": "221c4516-24f0-48e3-b4f2-dc3dbe44f247",
   "metadata": {},
   "source": [
    "The bias-variance tradeoff is a fundamental concept in machine learning that describes the tradeoff\n",
    "between two sources of error that affect model performance.\n",
    "Bias:1.High Bias 2.Low Bias\n",
    "Variance:1.High Variance 2.Low Variance\n",
    "The Tradeoff\n",
    "High Bias, Low Variance\n",
    "Low Bias, Low  Variance"
   ]
  },
  {
   "cell_type": "code",
   "execution_count": null,
   "id": "e0bb7755-55d2-448e-95ea-8509ee2a0735",
   "metadata": {},
   "outputs": [],
   "source": [
    "Q5: Discuss some common methods for detecting overfitting and underfitting in machine learning models.\n",
    "How can you determine whether your model is overfitting or underfitting?"
   ]
  },
  {
   "cell_type": "markdown",
   "id": "d40439ce-e272-4a65-bef5-3e19f52ccd1a",
   "metadata": {},
   "source": [
    "Detecting overfitting and underfitting in machine learning models, particularly in the field of medicine.\n",
    "Overfitting:when a model learns the training data too well,inculding its noise and outliers, which negatively impacts its performance on new,unseen data.\n",
    "Underfitting:when a model is too simple  to capture the underlying patterns in the data, leading to poor performance on both training and validation data."
   ]
  },
  {
   "cell_type": "code",
   "execution_count": null,
   "id": "4091254b-f232-4c8c-ad60-17cd3a82a4b1",
   "metadata": {},
   "outputs": [],
   "source": [
    "Q6: Compare and contrast bias and variance in machine learning. What are some examples of high bias\n",
    "and high variance models, and how do they differ in terms of their performance?"
   ]
  },
  {
   "cell_type": "markdown",
   "id": "6739751a-636c-43ac-8212-afcdd77e9abb",
   "metadata": {},
   "source": [
    "Bias=Bias refers to the error introduced by approximating a real-world problem,which may be extremely complex, by a simplified model.\n",
    "Variance=refers to the error introduced by the model's sensitivity to small fluctuations in the training set. it is the amount by which the model's\n",
    "Ex of high bias model\n",
    "Linear Regression\n",
    "Naive Bayes\n",
    "Ex. of high variance model\n",
    "Decision Trees\n",
    "K-Nearest Neighbors"
   ]
  },
  {
   "cell_type": "code",
   "execution_count": null,
   "id": "69d48d3c-860f-42e9-bb55-5f2d4db7d199",
   "metadata": {},
   "outputs": [],
   "source": [
    "Q7: What is regularization in machine learning, and how can it be used to prevent overfitting? Describe\n",
    "some common regularization techniques and how they work."
   ]
  },
  {
   "cell_type": "markdown",
   "id": "6086af6f-fa5c-41fb-892e-1321a1de18c6",
   "metadata": {},
   "source": [
    "Regularization machine learning refer to a set of techniques used to prevent overfitting by introducing additional information into a model.\n",
    "How Regularzation prevent overfitting:\n",
    "penalizing compliexity\n",
    "constraining coefficient\n",
    "Common Regularzation Technique:\n",
    "1.L1 Regularzation(Lasso)\n",
    "2.L2 Regularzation(Ridge)\n",
    "3.Elastic Net Regularzation\n",
    "4.Dropout(for Neural Network)\n",
    "5.Early stopping\n",
    "6.Data Augmentation\n",
    "7.Regularization Through "
   ]
  },
  {
   "cell_type": "code",
   "execution_count": null,
   "id": "76578057-2c9b-4792-9ff1-2ccb06437f93",
   "metadata": {},
   "outputs": [],
   "source": []
  },
  {
   "cell_type": "code",
   "execution_count": null,
   "id": "ce4e01a6-4505-4f34-bdfe-d7ae9bcc5bc7",
   "metadata": {},
   "outputs": [],
   "source": []
  },
  {
   "cell_type": "code",
   "execution_count": null,
   "id": "3469ee99-8be8-4ec0-bca1-e53a913edf81",
   "metadata": {},
   "outputs": [],
   "source": []
  },
  {
   "cell_type": "code",
   "execution_count": null,
   "id": "3d9e8a5c-6374-4124-b9d2-a9145c225569",
   "metadata": {},
   "outputs": [],
   "source": []
  },
  {
   "cell_type": "code",
   "execution_count": null,
   "id": "4195f072-90bc-40b9-a367-1ba0d5c72f57",
   "metadata": {},
   "outputs": [],
   "source": []
  },
  {
   "cell_type": "code",
   "execution_count": null,
   "id": "cf56e70d-c0d6-46e1-8e25-8a34eeec5327",
   "metadata": {},
   "outputs": [],
   "source": []
  },
  {
   "cell_type": "code",
   "execution_count": null,
   "id": "813151e0-80d1-4072-9f93-92a4de77b8c6",
   "metadata": {},
   "outputs": [],
   "source": []
  },
  {
   "cell_type": "code",
   "execution_count": null,
   "id": "84608592-612c-4dfd-af27-b0aae9bdcd14",
   "metadata": {},
   "outputs": [],
   "source": []
  },
  {
   "cell_type": "code",
   "execution_count": null,
   "id": "1701a41c-e7fc-4994-866b-0f92167137c6",
   "metadata": {},
   "outputs": [],
   "source": []
  },
  {
   "cell_type": "code",
   "execution_count": null,
   "id": "a53fb4c1-9d8b-4aec-92e3-e937063411ea",
   "metadata": {},
   "outputs": [],
   "source": []
  },
  {
   "cell_type": "code",
   "execution_count": null,
   "id": "d5c0b164-a444-4ae5-9626-d66908ad0cdf",
   "metadata": {},
   "outputs": [],
   "source": []
  },
  {
   "cell_type": "code",
   "execution_count": null,
   "id": "fb017e52-fc19-4727-a99b-6a5e1098ff2b",
   "metadata": {},
   "outputs": [],
   "source": []
  },
  {
   "cell_type": "code",
   "execution_count": null,
   "id": "7081c1ee-e119-4a2f-b1cb-aa6fa5a3527b",
   "metadata": {},
   "outputs": [],
   "source": []
  },
  {
   "cell_type": "code",
   "execution_count": null,
   "id": "8f049da8-cd03-48ed-9d4d-b6a9f8a176f7",
   "metadata": {},
   "outputs": [],
   "source": []
  },
  {
   "cell_type": "code",
   "execution_count": null,
   "id": "83a8d7d2-75c5-49c6-a8f9-a9363a7ce75b",
   "metadata": {},
   "outputs": [],
   "source": []
  },
  {
   "cell_type": "code",
   "execution_count": null,
   "id": "0da3b634-964c-4d50-bf89-9792be217dd1",
   "metadata": {},
   "outputs": [],
   "source": []
  },
  {
   "cell_type": "code",
   "execution_count": null,
   "id": "3036c121-1199-406e-82f0-275d74002405",
   "metadata": {},
   "outputs": [],
   "source": []
  },
  {
   "cell_type": "code",
   "execution_count": null,
   "id": "15bb1228-3c07-4ec4-af8c-fd9aa095c527",
   "metadata": {},
   "outputs": [],
   "source": []
  },
  {
   "cell_type": "code",
   "execution_count": null,
   "id": "b65405be-540f-44ea-ad2d-65f4931c481f",
   "metadata": {},
   "outputs": [],
   "source": []
  },
  {
   "cell_type": "code",
   "execution_count": null,
   "id": "9f88d393-217e-4781-9c1b-9a22037a1624",
   "metadata": {},
   "outputs": [],
   "source": []
  },
  {
   "cell_type": "code",
   "execution_count": null,
   "id": "675efa64-f26a-4afa-a282-489be28188d2",
   "metadata": {},
   "outputs": [],
   "source": []
  },
  {
   "cell_type": "code",
   "execution_count": null,
   "id": "caaad1bf-578f-461d-a198-b9ed3e591ca6",
   "metadata": {},
   "outputs": [],
   "source": []
  },
  {
   "cell_type": "code",
   "execution_count": null,
   "id": "ef5e8278-a511-4eef-ae0f-16e9e2eb460f",
   "metadata": {},
   "outputs": [],
   "source": []
  }
 ],
 "metadata": {
  "kernelspec": {
   "display_name": "Python 3 (ipykernel)",
   "language": "python",
   "name": "python3"
  },
  "language_info": {
   "codemirror_mode": {
    "name": "ipython",
    "version": 3
   },
   "file_extension": ".py",
   "mimetype": "text/x-python",
   "name": "python",
   "nbconvert_exporter": "python",
   "pygments_lexer": "ipython3",
   "version": "3.10.8"
  }
 },
 "nbformat": 4,
 "nbformat_minor": 5
}
